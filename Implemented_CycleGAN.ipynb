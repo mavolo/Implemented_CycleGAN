{
  "nbformat": 4,
  "nbformat_minor": 0,
  "metadata": {
    "colab": {
      "provenance": [],
      "machine_shape": "hm"
    },
    "kernelspec": {
      "name": "python3",
      "display_name": "Python 3"
    },
    "language_info": {
      "name": "python"
    },
    "accelerator": "GPU",
    "gpuClass": "premium"
  },
  "cells": [
    {
      "cell_type": "markdown",
      "source": [
        "**Import directory**\n",
        "\n",
        "Directly clone from our github"
      ],
      "metadata": {
        "id": "CJXfxPep3xkg"
      }
    },
    {
      "cell_type": "code",
      "execution_count": null,
      "metadata": {
        "id": "M2TK3LQLplVz"
      },
      "outputs": [],
      "source": [
        "import os\n",
        "!git clone https://github.com/mavolo/Implemented_CycleGAN\n",
        "os.chdir('Implemented_CycleGAN/')"
      ]
    },
    {
      "cell_type": "markdown",
      "source": [
        "**Download datasets**\n",
        "\n",
        "We take horse2zebra dataset as an example"
      ],
      "metadata": {
        "id": "Em7wTB6x3sqx"
      }
    },
    {
      "cell_type": "code",
      "source": [
        "## download horse2 zebradataset\n",
        "!wget http://efrosgans.eecs.berkeley.edu/cyclegan/datasets/horse2zebra.zip\n",
        "!unzip horse2zebra.zip -d ./datasets/"
      ],
      "metadata": {
        "id": "7-9w8jpnqRsa"
      },
      "execution_count": null,
      "outputs": []
    },
    {
      "cell_type": "markdown",
      "source": [
        "**Train**\n",
        "\n",
        "Please set a proper batchsize according to your own hardware. \n",
        "\n",
        "Find the output in Result/train:",
        "\n"
      ],
      "metadata": {
        "id": "umDU957l3j6o"
      }
    },
    {
      "cell_type": "code",
      "source": [
        "!python train.py --dataroot datasets/horse2zebra/  --saveroot horse2zebra/output/ --device cuda:0 --batch_size 8"
      ],
      "metadata": {
        "id": "a0bmP0u0rDTn"
      },
      "execution_count": null,
      "outputs": []
    },
    {
      "cell_type": "markdown",
      "source": [
        "**Test**\n",
        "\n",
        "Please do not mannually change the default batch_size(1).\n",
        "\n",
        "Find the output in Result/test:"
      ],
      "metadata": {
        "id": "vDfu9Psm7iR-"
      }
    },
    {
      "cell_type": "code",
      "source": [
        "!python test.py --dataroot datasets/horse2zebra/  --path_gA2B Result/train/horse2zebra/output/G_AB.pth --path_gB2A Result/train/horse2zebra/output/G_BA.pth --saveroot horse2zebra/"
      ],
      "metadata": {
        "id": "BZfyMHOh3jLA"
      },
      "execution_count": null,
      "outputs": []
    }
  ]
}
